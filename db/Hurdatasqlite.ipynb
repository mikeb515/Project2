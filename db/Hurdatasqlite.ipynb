{
 "cells": [
  {
   "cell_type": "code",
   "execution_count": 1,
   "metadata": {},
   "outputs": [],
   "source": [
    "import pandas as pd\n",
    "import numpy as np\n",
    "import flask\n",
    "import json as js\n",
    "#import pyproj as pp\n",
    "\n",
    "import sqlalchemy\n",
    "from sqlalchemy.ext.automap import automap_base\n",
    "from sqlalchemy.orm import Session\n",
    "from sqlalchemy import create_engine\n",
    "from sqlalchemy.orm import sessionmaker"
   ]
  },
  {
   "cell_type": "code",
   "execution_count": 2,
   "metadata": {},
   "outputs": [],
   "source": [
    "from sqlalchemy import create_engine, ForeignKey\n",
    "from sqlalchemy import Column, Date, Integer, String\n",
    "from sqlalchemy.ext.declarative import declarative_base\n",
    "\n",
    "engine = create_engine('sqlite:///Hurricane.sqlite', echo=False)\n",
    "con = engine.connect()"
   ]
  },
  {
   "cell_type": "code",
   "execution_count": 32,
   "metadata": {},
   "outputs": [
    {
     "ename": "IndentationError",
     "evalue": "unexpected indent (<ipython-input-32-f8af27f2f61c>, line 2)",
     "output_type": "error",
     "traceback": [
      "\u001b[0;36m  File \u001b[0;32m\"<ipython-input-32-f8af27f2f61c>\"\u001b[0;36m, line \u001b[0;32m2\u001b[0m\n\u001b[0;31m    ID integer not null primary key,\u001b[0m\n\u001b[0m    ^\u001b[0m\n\u001b[0;31mIndentationError\u001b[0m\u001b[0;31m:\u001b[0m unexpected indent\n"
     ]
    }
   ],
   "source": [
    "con.execute('''CREATE TABLE Hurricanes(\n",
    "                ID integer not null primary key, \n",
    "                Name Varchar (100),\n",
    "                Time integer not null,\n",
    "                Event Varchar (100),\n",
    "                Status Varchar (100),\n",
    "                Latitude integer not null,\n",
    "                Longitude integer not null,\n",
    "                Wind integer not null,\n",
    "                Pressure integer not null,\n",
    "                ISODate Varchar (100),\n",
    "                Location Varchar (100)\n",
    "                )''')\n"
   ]
  },
  {
   "cell_type": "code",
   "execution_count": 4,
   "metadata": {},
   "outputs": [],
   "source": [
    "df = pd.read_csv('hurdat.csv', index_col=0)\n",
    "df.to_sql('Hurricanes', engine, if_exists='replace', index=True, index_label=\"id\")"
   ]
  },
  {
   "cell_type": "code",
   "execution_count": 5,
   "metadata": {},
   "outputs": [],
   "source": [
    "data = pd.read_sql('Select * from Hurricanes',engine)\n"
   ]
  },
  {
   "cell_type": "code",
   "execution_count": 6,
   "metadata": {},
   "outputs": [
    {
     "data": {
      "text/html": [
       "<div>\n",
       "<style scoped>\n",
       "    .dataframe tbody tr th:only-of-type {\n",
       "        vertical-align: middle;\n",
       "    }\n",
       "\n",
       "    .dataframe tbody tr th {\n",
       "        vertical-align: top;\n",
       "    }\n",
       "\n",
       "    .dataframe thead th {\n",
       "        text-align: right;\n",
       "    }\n",
       "</style>\n",
       "<table border=\"1\" class=\"dataframe\">\n",
       "  <thead>\n",
       "    <tr style=\"text-align: right;\">\n",
       "      <th></th>\n",
       "      <th>id</th>\n",
       "      <th>Name</th>\n",
       "      <th>Date</th>\n",
       "      <th>Time</th>\n",
       "      <th>Event</th>\n",
       "      <th>Status</th>\n",
       "      <th>Latitude</th>\n",
       "      <th>Longitude</th>\n",
       "      <th>Wind</th>\n",
       "      <th>Pressure</th>\n",
       "      <th>ISODate</th>\n",
       "      <th>Location</th>\n",
       "    </tr>\n",
       "  </thead>\n",
       "  <tbody>\n",
       "    <tr>\n",
       "      <th>0</th>\n",
       "      <td>EP011949</td>\n",
       "      <td>UNNAMED</td>\n",
       "      <td>19490611</td>\n",
       "      <td>0</td>\n",
       "      <td></td>\n",
       "      <td>TS</td>\n",
       "      <td>20.2</td>\n",
       "      <td>-106.3</td>\n",
       "      <td>45</td>\n",
       "      <td>-999</td>\n",
       "      <td>1949-06-11T00:00:00</td>\n",
       "      <td>East Pacific</td>\n",
       "    </tr>\n",
       "    <tr>\n",
       "      <th>1</th>\n",
       "      <td>EP011949</td>\n",
       "      <td>UNNAMED</td>\n",
       "      <td>19490611</td>\n",
       "      <td>600</td>\n",
       "      <td></td>\n",
       "      <td>TS</td>\n",
       "      <td>20.2</td>\n",
       "      <td>-106.4</td>\n",
       "      <td>45</td>\n",
       "      <td>-999</td>\n",
       "      <td>1949-06-11T06:00:00</td>\n",
       "      <td>East Pacific</td>\n",
       "    </tr>\n",
       "    <tr>\n",
       "      <th>2</th>\n",
       "      <td>EP011949</td>\n",
       "      <td>UNNAMED</td>\n",
       "      <td>19490611</td>\n",
       "      <td>1200</td>\n",
       "      <td></td>\n",
       "      <td>TS</td>\n",
       "      <td>20.2</td>\n",
       "      <td>-106.7</td>\n",
       "      <td>45</td>\n",
       "      <td>-999</td>\n",
       "      <td>1949-06-11T12:00:00</td>\n",
       "      <td>East Pacific</td>\n",
       "    </tr>\n",
       "    <tr>\n",
       "      <th>3</th>\n",
       "      <td>EP011949</td>\n",
       "      <td>UNNAMED</td>\n",
       "      <td>19490611</td>\n",
       "      <td>1800</td>\n",
       "      <td></td>\n",
       "      <td>TS</td>\n",
       "      <td>20.3</td>\n",
       "      <td>-107.7</td>\n",
       "      <td>45</td>\n",
       "      <td>-999</td>\n",
       "      <td>1949-06-11T18:00:00</td>\n",
       "      <td>East Pacific</td>\n",
       "    </tr>\n",
       "    <tr>\n",
       "      <th>4</th>\n",
       "      <td>EP011949</td>\n",
       "      <td>UNNAMED</td>\n",
       "      <td>19490612</td>\n",
       "      <td>0</td>\n",
       "      <td></td>\n",
       "      <td>TS</td>\n",
       "      <td>20.4</td>\n",
       "      <td>-108.6</td>\n",
       "      <td>45</td>\n",
       "      <td>-999</td>\n",
       "      <td>1949-06-12T00:00:00</td>\n",
       "      <td>East Pacific</td>\n",
       "    </tr>\n",
       "  </tbody>\n",
       "</table>\n",
       "</div>"
      ],
      "text/plain": [
       "         id                 Name      Date  Time Event Status  Latitude  \\\n",
       "0  EP011949              UNNAMED  19490611     0           TS      20.2   \n",
       "1  EP011949              UNNAMED  19490611   600           TS      20.2   \n",
       "2  EP011949              UNNAMED  19490611  1200           TS      20.2   \n",
       "3  EP011949              UNNAMED  19490611  1800           TS      20.3   \n",
       "4  EP011949              UNNAMED  19490612     0           TS      20.4   \n",
       "\n",
       "   Longitude  Wind  Pressure              ISODate      Location  \n",
       "0     -106.3    45      -999  1949-06-11T00:00:00  East Pacific  \n",
       "1     -106.4    45      -999  1949-06-11T06:00:00  East Pacific  \n",
       "2     -106.7    45      -999  1949-06-11T12:00:00  East Pacific  \n",
       "3     -107.7    45      -999  1949-06-11T18:00:00  East Pacific  \n",
       "4     -108.6    45      -999  1949-06-12T00:00:00  East Pacific  "
      ]
     },
     "execution_count": 6,
     "metadata": {},
     "output_type": "execute_result"
    }
   ],
   "source": [
    "data.head()"
   ]
  },
  {
   "cell_type": "code",
   "execution_count": 35,
   "metadata": {},
   "outputs": [],
   "source": [
    "### function takes an ID parameter, gets data from database, converts to and returns geoJson \n",
    "## requires geojson to be installed ( pip install geojson )\n",
    "## requires imports \n",
    "from geojson import LineString, Feature, Point, GeometryCollection, FeatureCollection\n",
    "def makeGeo(id):\n",
    "    edf=  pd.read_sql('Select * from Hurricanes where id=\"'+id+'\" Order by Date,Time',engine)\n",
    "    ls=LineString(edf[['Latitude','Longitude']].values.tolist())\n",
    "    dates=edf['ISODate'].values.tolist()\n",
    "    winds=edf['Wind'].values.tolist()\n",
    "    name= edf['Name'].unique()[0].strip() \n",
    "    f=Feature(geometry=ls,properties={\"id\":\"AL041966\", \"name\":name , \"dates\":dates, \"winds\":winds})\n",
    "    fc=FeatureCollection([f])\n",
    "    return fc\n"
   ]
  },
  {
   "cell_type": "code",
   "execution_count": 36,
   "metadata": {},
   "outputs": [
    {
     "data": {
      "text/plain": [
       "{\"features\": [{\"geometry\": {\"coordinates\": [[31.0, -41.0], [31.5, -41.5], [31.7, -41.7], [31.8, -41.9], [32.0, -42.0], [32.2, -42.0], [32.4, -42.1], [32.7, -42.2], [33.0, -42.1], [33.3, -41.8], [33.8, -41.1], [34.5, -40.5], [35.3, -40.5], [35.9, -40.8], [36.1, -41.4], [36.2, -41.9], [36.4, -42.2], [36.6, -42.2], [37.4, -41.9], [38.3, -41.4], [38.7, -40.8], [39.2, -40.1], [40.1, -39.2], [40.9, -38.5], [41.6, -38.2], [42.4, -38.0], [43.1, -37.7], [43.9, -37.4], [44.6, -37.4], [45.3, -37.4], [46.0, -37.3], [46.8, -37.1], [47.7, -36.4], [49.0, -36.0], [50.5, -36.5], [52.0, -37.0], [53.5, -38.5]], \"type\": \"LineString\"}, \"properties\": {\"dates\": [\"1966-07-22T18:00:00\", \"1966-07-23T00:00:00\", \"1966-07-23T06:00:00\", \"1966-07-23T12:00:00\", \"1966-07-23T18:00:00\", \"1966-07-24T00:00:00\", \"1966-07-24T06:00:00\", \"1966-07-24T12:00:00\", \"1966-07-24T18:00:00\", \"1966-07-25T00:00:00\", \"1966-07-25T06:00:00\", \"1966-07-25T12:00:00\", \"1966-07-25T18:00:00\", \"1966-07-26T00:00:00\", \"1966-07-26T06:00:00\", \"1966-07-26T12:00:00\", \"1966-07-26T18:00:00\", \"1966-07-27T00:00:00\", \"1966-07-27T06:00:00\", \"1966-07-27T12:00:00\", \"1966-07-27T18:00:00\", \"1966-07-28T00:00:00\", \"1966-07-28T06:00:00\", \"1966-07-28T12:00:00\", \"1966-07-28T18:00:00\", \"1966-07-29T00:00:00\", \"1966-07-29T06:00:00\", \"1966-07-29T12:00:00\", \"1966-07-29T18:00:00\", \"1966-07-30T00:00:00\", \"1966-07-30T06:00:00\", \"1966-07-30T12:00:00\", \"1966-07-30T18:00:00\", \"1966-07-31T00:00:00\", \"1966-07-31T06:00:00\", \"1966-07-31T12:00:00\", \"1966-07-31T18:00:00\"], \"id\": \"AL041966\", \"name\": \"DOROTHY\", \"winds\": [25, 25, 25, 40, 40, 55, 60, 60, 65, 65, 65, 65, 65, 65, 65, 65, 65, 65, 65, 65, 70, 75, 70, 70, 70, 65, 60, 55, 50, 50, 45, 45, 45, 40, 40, 35, 35]}, \"type\": \"Feature\"}], \"type\": \"FeatureCollection\"}"
      ]
     },
     "execution_count": 36,
     "metadata": {},
     "output_type": "execute_result"
    }
   ],
   "source": [
    "fc=makeGeo('AL041966')\n",
    "fc"
   ]
  },
  {
   "cell_type": "code",
   "execution_count": null,
   "metadata": {},
   "outputs": [],
   "source": []
  }
 ],
 "metadata": {
  "kernelspec": {
   "display_name": "Python 3",
   "language": "python",
   "name": "python3"
  },
  "language_info": {
   "codemirror_mode": {
    "name": "ipython",
    "version": 3
   },
   "file_extension": ".py",
   "mimetype": "text/x-python",
   "name": "python",
   "nbconvert_exporter": "python",
   "pygments_lexer": "ipython3",
   "version": "3.6.7"
  }
 },
 "nbformat": 4,
 "nbformat_minor": 2
}
